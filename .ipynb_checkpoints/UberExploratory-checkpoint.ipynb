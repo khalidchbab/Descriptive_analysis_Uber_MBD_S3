{
 "cells": [
  {
   "cell_type": "markdown",
   "metadata": {},
   "source": [
    "# Khalid CHBAB & BAKKALI Zayd - MBD S3"
   ]
  },
  {
   "cell_type": "markdown",
   "metadata": {},
   "source": [
    "# Descriptive Analysis Of Uber Data"
   ]
  },
  {
   "cell_type": "markdown",
   "metadata": {},
   "source": [
    "### Imporiting libraries"
   ]
  },
  {
   "cell_type": "code",
   "execution_count": 108,
   "metadata": {},
   "outputs": [],
   "source": [
    "import numpy as np\n",
    "import pandas as pd\n",
    "import matplotlib.pyplot as plt\n",
    "import seaborn as sns"
   ]
  },
  {
   "cell_type": "markdown",
   "metadata": {},
   "source": [
    "## Importing Data and cleaning"
   ]
  },
  {
   "cell_type": "code",
   "execution_count": 109,
   "metadata": {},
   "outputs": [
    {
     "data": {
      "text/html": [
       "<div>\n",
       "<style scoped>\n",
       "    .dataframe tbody tr th:only-of-type {\n",
       "        vertical-align: middle;\n",
       "    }\n",
       "\n",
       "    .dataframe tbody tr th {\n",
       "        vertical-align: top;\n",
       "    }\n",
       "\n",
       "    .dataframe thead th {\n",
       "        text-align: right;\n",
       "    }\n",
       "</style>\n",
       "<table border=\"1\" class=\"dataframe\">\n",
       "  <thead>\n",
       "    <tr style=\"text-align: right;\">\n",
       "      <th></th>\n",
       "      <th>duration</th>\n",
       "      <th>station_A_id</th>\n",
       "      <th>station_A_name</th>\n",
       "      <th>station_B_id</th>\n",
       "      <th>station_B_name</th>\n",
       "      <th>bike_id</th>\n",
       "      <th>user_type</th>\n",
       "      <th>user_birth_year</th>\n",
       "      <th>user_gender</th>\n",
       "    </tr>\n",
       "  </thead>\n",
       "  <tbody>\n",
       "    <tr>\n",
       "      <th>0</th>\n",
       "      <td>12 minutes</td>\n",
       "      <td>81</td>\n",
       "      <td>Berry St at 4th St</td>\n",
       "      <td>323</td>\n",
       "      <td>Broadway at Kearny</td>\n",
       "      <td>5480</td>\n",
       "      <td>2</td>\n",
       "      <td>1959</td>\n",
       "      <td>Male</td>\n",
       "    </tr>\n",
       "    <tr>\n",
       "      <th>1</th>\n",
       "      <td>24 minutes</td>\n",
       "      <td>3</td>\n",
       "      <td>Powell St BART Station (Market St at 4th St)</td>\n",
       "      <td>118</td>\n",
       "      <td>Eureka Valley Recreation Center</td>\n",
       "      <td>5193</td>\n",
       "      <td>2</td>\n",
       "      <td>1965</td>\n",
       "      <td>Male</td>\n",
       "    </tr>\n",
       "    <tr>\n",
       "      <th>2</th>\n",
       "      <td>8 minutes</td>\n",
       "      <td>67</td>\n",
       "      <td>San Francisco Caltrain Station 2  (Townsend St...</td>\n",
       "      <td>23</td>\n",
       "      <td>The Embarcadero at Steuart St</td>\n",
       "      <td>3652</td>\n",
       "      <td>3</td>\n",
       "      <td>1993</td>\n",
       "      <td>Male</td>\n",
       "    </tr>\n",
       "    <tr>\n",
       "      <th>3</th>\n",
       "      <td>4 minutes</td>\n",
       "      <td>16</td>\n",
       "      <td>Steuart St at Market St</td>\n",
       "      <td>28</td>\n",
       "      <td>The Embarcadero at Bryant St</td>\n",
       "      <td>1883</td>\n",
       "      <td>1</td>\n",
       "      <td>1979</td>\n",
       "      <td>Male</td>\n",
       "    </tr>\n",
       "    <tr>\n",
       "      <th>4</th>\n",
       "      <td>11 minutes</td>\n",
       "      <td>22</td>\n",
       "      <td>Howard St at Beale St</td>\n",
       "      <td>350</td>\n",
       "      <td>8th St at Brannan St</td>\n",
       "      <td>4626</td>\n",
       "      <td>2</td>\n",
       "      <td>1994</td>\n",
       "      <td>Male</td>\n",
       "    </tr>\n",
       "  </tbody>\n",
       "</table>\n",
       "</div>"
      ],
      "text/plain": [
       "     duration  station_A_id  \\\n",
       "0  12 minutes            81   \n",
       "1  24 minutes             3   \n",
       "2   8 minutes            67   \n",
       "3   4 minutes            16   \n",
       "4  11 minutes            22   \n",
       "\n",
       "                                      station_A_name  station_B_id  \\\n",
       "0                                 Berry St at 4th St           323   \n",
       "1       Powell St BART Station (Market St at 4th St)           118   \n",
       "2  San Francisco Caltrain Station 2  (Townsend St...            23   \n",
       "3                            Steuart St at Market St            28   \n",
       "4                              Howard St at Beale St           350   \n",
       "\n",
       "                    station_B_name  bike_id  user_type  user_birth_year  \\\n",
       "0               Broadway at Kearny     5480          2             1959   \n",
       "1  Eureka Valley Recreation Center     5193          2             1965   \n",
       "2    The Embarcadero at Steuart St     3652          3             1993   \n",
       "3     The Embarcadero at Bryant St     1883          1             1979   \n",
       "4             8th St at Brannan St     4626          2             1994   \n",
       "\n",
       "  user_gender  \n",
       "0        Male  \n",
       "1        Male  \n",
       "2        Male  \n",
       "3        Male  \n",
       "4        Male  "
      ]
     },
     "execution_count": 109,
     "metadata": {},
     "output_type": "execute_result"
    }
   ],
   "source": [
    "uber_df = pd.read_csv('./uber_ride_sharing.csv',index_col=0)\n",
    "uber_df.head()"
   ]
  },
  {
   "cell_type": "markdown",
   "metadata": {},
   "source": [
    " !!!!! Number of Observations"
   ]
  },
  {
   "cell_type": "code",
   "execution_count": 110,
   "metadata": {},
   "outputs": [
    {
     "data": {
      "text/plain": [
       "(25760, 9)"
      ]
     },
     "execution_count": 110,
     "metadata": {},
     "output_type": "execute_result"
    }
   ],
   "source": [
    "uber_df.shape"
   ]
  },
  {
   "cell_type": "markdown",
   "metadata": {},
   "source": [
    "We Have a dataset of 25760 record and 9 columns"
   ]
  },
  {
   "cell_type": "code",
   "execution_count": 111,
   "metadata": {},
   "outputs": [
    {
     "data": {
      "text/plain": [
       "duration           object\n",
       "station_A_id        int64\n",
       "station_A_name     object\n",
       "station_B_id        int64\n",
       "station_B_name     object\n",
       "bike_id             int64\n",
       "user_type           int64\n",
       "user_birth_year     int64\n",
       "user_gender        object\n",
       "dtype: object"
      ]
     },
     "execution_count": 111,
     "metadata": {},
     "output_type": "execute_result"
    }
   ],
   "source": [
    "uber_df.dtypes"
   ]
  },
  {
   "cell_type": "markdown",
   "metadata": {},
   "source": [
    "There is problems loading types for the duration, stations names and gender"
   ]
  },
  {
   "cell_type": "code",
   "execution_count": 112,
   "metadata": {},
   "outputs": [
    {
     "data": {
      "text/plain": [
       "duration           0\n",
       "station_A_id       0\n",
       "station_A_name     0\n",
       "station_B_id       0\n",
       "station_B_name     0\n",
       "bike_id            0\n",
       "user_type          0\n",
       "user_birth_year    0\n",
       "user_gender        0\n",
       "dtype: int64"
      ]
     },
     "execution_count": 112,
     "metadata": {},
     "output_type": "execute_result"
    }
   ],
   "source": [
    "# Check if there is any null values\n",
    "uber_df.isna().sum()"
   ]
  },
  {
   "cell_type": "markdown",
   "metadata": {},
   "source": [
    "No Null Values in our dataset"
   ]
  },
  {
   "cell_type": "markdown",
   "metadata": {},
   "source": [
    "## Cleaning The data and adding some columns"
   ]
  },
  {
   "cell_type": "code",
   "execution_count": 113,
   "metadata": {},
   "outputs": [],
   "source": [
    "def fix_duration_column():\n",
    "    \"\"\"\n",
    "    fix the duration column of dataset Uber\n",
    "    \n",
    "        Parameters : None\n",
    "        \n",
    "        Return : None\n",
    "    \"\"\"\n",
    "    uber_df.duration = uber_df.duration.astype(str)\n",
    "    uber_df.duration = uber_df.duration.str.replace(r'\\D', '')\n",
    "    return None\n",
    "\n",
    "def fix_df_types():\n",
    "    \"\"\"\n",
    "    fix Data types for columns of dataframe\n",
    "    \n",
    "        Parameters : None\n",
    "        \n",
    "        Return : None\n",
    "    \"\"\"\n",
    "    uber_df.station_A_name = uber_df.station_A_name.astype(str)\n",
    "    uber_df.station_B_name = uber_df.station_B_name.astype(str)\n",
    "    uber_df.user_gender = uber_df.user_gender.astype(str)\n",
    "    uber_df.duration = uber_df.duration.astype(int)\n",
    "    \n",
    "    return None\n",
    "# renaming the bike_id column to car_id\n",
    "uber_df = uber_df.rename(columns={\"bike_id\":\"car_id\"})\n",
    "# calling the functions \n",
    "fix_duration_column()\n",
    "fix_df_types()"
   ]
  },
  {
   "cell_type": "code",
   "execution_count": 114,
   "metadata": {},
   "outputs": [
    {
     "data": {
      "text/html": [
       "<div>\n",
       "<style scoped>\n",
       "    .dataframe tbody tr th:only-of-type {\n",
       "        vertical-align: middle;\n",
       "    }\n",
       "\n",
       "    .dataframe tbody tr th {\n",
       "        vertical-align: top;\n",
       "    }\n",
       "\n",
       "    .dataframe thead th {\n",
       "        text-align: right;\n",
       "    }\n",
       "</style>\n",
       "<table border=\"1\" class=\"dataframe\">\n",
       "  <thead>\n",
       "    <tr style=\"text-align: right;\">\n",
       "      <th></th>\n",
       "      <th>duration</th>\n",
       "      <th>station_A_id</th>\n",
       "      <th>station_A_name</th>\n",
       "      <th>station_B_id</th>\n",
       "      <th>station_B_name</th>\n",
       "      <th>car_id</th>\n",
       "      <th>user_type</th>\n",
       "      <th>user_birth_year</th>\n",
       "      <th>user_gender</th>\n",
       "    </tr>\n",
       "  </thead>\n",
       "  <tbody>\n",
       "    <tr>\n",
       "      <th>0</th>\n",
       "      <td>12</td>\n",
       "      <td>81</td>\n",
       "      <td>Berry St at 4th St</td>\n",
       "      <td>323</td>\n",
       "      <td>Broadway at Kearny</td>\n",
       "      <td>5480</td>\n",
       "      <td>2</td>\n",
       "      <td>1959</td>\n",
       "      <td>Male</td>\n",
       "    </tr>\n",
       "    <tr>\n",
       "      <th>1</th>\n",
       "      <td>24</td>\n",
       "      <td>3</td>\n",
       "      <td>Powell St BART Station (Market St at 4th St)</td>\n",
       "      <td>118</td>\n",
       "      <td>Eureka Valley Recreation Center</td>\n",
       "      <td>5193</td>\n",
       "      <td>2</td>\n",
       "      <td>1965</td>\n",
       "      <td>Male</td>\n",
       "    </tr>\n",
       "    <tr>\n",
       "      <th>2</th>\n",
       "      <td>8</td>\n",
       "      <td>67</td>\n",
       "      <td>San Francisco Caltrain Station 2  (Townsend St...</td>\n",
       "      <td>23</td>\n",
       "      <td>The Embarcadero at Steuart St</td>\n",
       "      <td>3652</td>\n",
       "      <td>3</td>\n",
       "      <td>1993</td>\n",
       "      <td>Male</td>\n",
       "    </tr>\n",
       "    <tr>\n",
       "      <th>3</th>\n",
       "      <td>4</td>\n",
       "      <td>16</td>\n",
       "      <td>Steuart St at Market St</td>\n",
       "      <td>28</td>\n",
       "      <td>The Embarcadero at Bryant St</td>\n",
       "      <td>1883</td>\n",
       "      <td>1</td>\n",
       "      <td>1979</td>\n",
       "      <td>Male</td>\n",
       "    </tr>\n",
       "    <tr>\n",
       "      <th>4</th>\n",
       "      <td>11</td>\n",
       "      <td>22</td>\n",
       "      <td>Howard St at Beale St</td>\n",
       "      <td>350</td>\n",
       "      <td>8th St at Brannan St</td>\n",
       "      <td>4626</td>\n",
       "      <td>2</td>\n",
       "      <td>1994</td>\n",
       "      <td>Male</td>\n",
       "    </tr>\n",
       "  </tbody>\n",
       "</table>\n",
       "</div>"
      ],
      "text/plain": [
       "   duration  station_A_id                                     station_A_name  \\\n",
       "0        12            81                                 Berry St at 4th St   \n",
       "1        24             3       Powell St BART Station (Market St at 4th St)   \n",
       "2         8            67  San Francisco Caltrain Station 2  (Townsend St...   \n",
       "3         4            16                            Steuart St at Market St   \n",
       "4        11            22                              Howard St at Beale St   \n",
       "\n",
       "   station_B_id                   station_B_name  car_id  user_type  \\\n",
       "0           323               Broadway at Kearny    5480          2   \n",
       "1           118  Eureka Valley Recreation Center    5193          2   \n",
       "2            23    The Embarcadero at Steuart St    3652          3   \n",
       "3            28     The Embarcadero at Bryant St    1883          1   \n",
       "4           350             8th St at Brannan St    4626          2   \n",
       "\n",
       "   user_birth_year user_gender  \n",
       "0             1959        Male  \n",
       "1             1965        Male  \n",
       "2             1993        Male  \n",
       "3             1979        Male  \n",
       "4             1994        Male  "
      ]
     },
     "execution_count": 114,
     "metadata": {},
     "output_type": "execute_result"
    }
   ],
   "source": [
    "# printing 5 rows of dataframe\n",
    "uber_df.head()"
   ]
  },
  {
   "cell_type": "markdown",
   "metadata": {},
   "source": [
    "Some basic statistiques on the data we have"
   ]
  },
  {
   "cell_type": "code",
   "execution_count": 115,
   "metadata": {},
   "outputs": [
    {
     "data": {
      "text/html": [
       "<div>\n",
       "<style scoped>\n",
       "    .dataframe tbody tr th:only-of-type {\n",
       "        vertical-align: middle;\n",
       "    }\n",
       "\n",
       "    .dataframe tbody tr th {\n",
       "        vertical-align: top;\n",
       "    }\n",
       "\n",
       "    .dataframe thead th {\n",
       "        text-align: right;\n",
       "    }\n",
       "</style>\n",
       "<table border=\"1\" class=\"dataframe\">\n",
       "  <thead>\n",
       "    <tr style=\"text-align: right;\">\n",
       "      <th></th>\n",
       "      <th>duration</th>\n",
       "      <th>station_A_id</th>\n",
       "      <th>station_B_id</th>\n",
       "      <th>car_id</th>\n",
       "      <th>user_type</th>\n",
       "      <th>user_birth_year</th>\n",
       "    </tr>\n",
       "  </thead>\n",
       "  <tbody>\n",
       "    <tr>\n",
       "      <th>count</th>\n",
       "      <td>25760.000000</td>\n",
       "      <td>25760.000000</td>\n",
       "      <td>25760.000000</td>\n",
       "      <td>25760.000000</td>\n",
       "      <td>25760.000000</td>\n",
       "      <td>25760.000000</td>\n",
       "    </tr>\n",
       "    <tr>\n",
       "      <th>mean</th>\n",
       "      <td>11.389053</td>\n",
       "      <td>31.023602</td>\n",
       "      <td>89.558579</td>\n",
       "      <td>4107.621467</td>\n",
       "      <td>2.008385</td>\n",
       "      <td>1983.054969</td>\n",
       "    </tr>\n",
       "    <tr>\n",
       "      <th>std</th>\n",
       "      <td>23.500516</td>\n",
       "      <td>26.409263</td>\n",
       "      <td>105.144103</td>\n",
       "      <td>1576.315767</td>\n",
       "      <td>0.704541</td>\n",
       "      <td>10.010992</td>\n",
       "    </tr>\n",
       "    <tr>\n",
       "      <th>min</th>\n",
       "      <td>1.000000</td>\n",
       "      <td>3.000000</td>\n",
       "      <td>3.000000</td>\n",
       "      <td>11.000000</td>\n",
       "      <td>1.000000</td>\n",
       "      <td>1901.000000</td>\n",
       "    </tr>\n",
       "    <tr>\n",
       "      <th>25%</th>\n",
       "      <td>6.000000</td>\n",
       "      <td>15.000000</td>\n",
       "      <td>21.000000</td>\n",
       "      <td>3106.000000</td>\n",
       "      <td>2.000000</td>\n",
       "      <td>1978.000000</td>\n",
       "    </tr>\n",
       "    <tr>\n",
       "      <th>50%</th>\n",
       "      <td>9.000000</td>\n",
       "      <td>21.000000</td>\n",
       "      <td>58.000000</td>\n",
       "      <td>4821.000000</td>\n",
       "      <td>2.000000</td>\n",
       "      <td>1985.000000</td>\n",
       "    </tr>\n",
       "    <tr>\n",
       "      <th>75%</th>\n",
       "      <td>13.000000</td>\n",
       "      <td>67.000000</td>\n",
       "      <td>93.000000</td>\n",
       "      <td>5257.000000</td>\n",
       "      <td>3.000000</td>\n",
       "      <td>1990.000000</td>\n",
       "    </tr>\n",
       "    <tr>\n",
       "      <th>max</th>\n",
       "      <td>1372.000000</td>\n",
       "      <td>81.000000</td>\n",
       "      <td>383.000000</td>\n",
       "      <td>6638.000000</td>\n",
       "      <td>3.000000</td>\n",
       "      <td>2001.000000</td>\n",
       "    </tr>\n",
       "  </tbody>\n",
       "</table>\n",
       "</div>"
      ],
      "text/plain": [
       "           duration  station_A_id  station_B_id        car_id     user_type  \\\n",
       "count  25760.000000  25760.000000  25760.000000  25760.000000  25760.000000   \n",
       "mean      11.389053     31.023602     89.558579   4107.621467      2.008385   \n",
       "std       23.500516     26.409263    105.144103   1576.315767      0.704541   \n",
       "min        1.000000      3.000000      3.000000     11.000000      1.000000   \n",
       "25%        6.000000     15.000000     21.000000   3106.000000      2.000000   \n",
       "50%        9.000000     21.000000     58.000000   4821.000000      2.000000   \n",
       "75%       13.000000     67.000000     93.000000   5257.000000      3.000000   \n",
       "max     1372.000000     81.000000    383.000000   6638.000000      3.000000   \n",
       "\n",
       "       user_birth_year  \n",
       "count     25760.000000  \n",
       "mean       1983.054969  \n",
       "std          10.010992  \n",
       "min        1901.000000  \n",
       "25%        1978.000000  \n",
       "50%        1985.000000  \n",
       "75%        1990.000000  \n",
       "max        2001.000000  "
      ]
     },
     "execution_count": 115,
     "metadata": {},
     "output_type": "execute_result"
    }
   ],
   "source": [
    "# print basic statistics on the data frame as whole\n",
    "uber_df.describe()"
   ]
  },
  {
   "cell_type": "code",
   "execution_count": 116,
   "metadata": {},
   "outputs": [
    {
     "data": {
      "text/html": [
       "<div>\n",
       "<style scoped>\n",
       "    .dataframe tbody tr th:only-of-type {\n",
       "        vertical-align: middle;\n",
       "    }\n",
       "\n",
       "    .dataframe tbody tr th {\n",
       "        vertical-align: top;\n",
       "    }\n",
       "\n",
       "    .dataframe thead th {\n",
       "        text-align: right;\n",
       "    }\n",
       "</style>\n",
       "<table border=\"1\" class=\"dataframe\">\n",
       "  <thead>\n",
       "    <tr style=\"text-align: right;\">\n",
       "      <th></th>\n",
       "      <th>duration</th>\n",
       "      <th>station_A_id</th>\n",
       "      <th>station_B_id</th>\n",
       "      <th>car_id</th>\n",
       "      <th>user_type</th>\n",
       "      <th>user_birth_year</th>\n",
       "      <th>age</th>\n",
       "    </tr>\n",
       "  </thead>\n",
       "  <tbody>\n",
       "    <tr>\n",
       "      <th>count</th>\n",
       "      <td>25760.000000</td>\n",
       "      <td>25760.000000</td>\n",
       "      <td>25760.000000</td>\n",
       "      <td>25760.000000</td>\n",
       "      <td>25760.000000</td>\n",
       "      <td>25760.000000</td>\n",
       "      <td>25760.000000</td>\n",
       "    </tr>\n",
       "    <tr>\n",
       "      <th>mean</th>\n",
       "      <td>11.389053</td>\n",
       "      <td>31.023602</td>\n",
       "      <td>89.558579</td>\n",
       "      <td>4107.621467</td>\n",
       "      <td>2.008385</td>\n",
       "      <td>1983.054969</td>\n",
       "      <td>36.945031</td>\n",
       "    </tr>\n",
       "    <tr>\n",
       "      <th>std</th>\n",
       "      <td>23.500516</td>\n",
       "      <td>26.409263</td>\n",
       "      <td>105.144103</td>\n",
       "      <td>1576.315767</td>\n",
       "      <td>0.704541</td>\n",
       "      <td>10.010992</td>\n",
       "      <td>10.010992</td>\n",
       "    </tr>\n",
       "    <tr>\n",
       "      <th>min</th>\n",
       "      <td>1.000000</td>\n",
       "      <td>3.000000</td>\n",
       "      <td>3.000000</td>\n",
       "      <td>11.000000</td>\n",
       "      <td>1.000000</td>\n",
       "      <td>1901.000000</td>\n",
       "      <td>19.000000</td>\n",
       "    </tr>\n",
       "    <tr>\n",
       "      <th>25%</th>\n",
       "      <td>6.000000</td>\n",
       "      <td>15.000000</td>\n",
       "      <td>21.000000</td>\n",
       "      <td>3106.000000</td>\n",
       "      <td>2.000000</td>\n",
       "      <td>1978.000000</td>\n",
       "      <td>30.000000</td>\n",
       "    </tr>\n",
       "    <tr>\n",
       "      <th>50%</th>\n",
       "      <td>9.000000</td>\n",
       "      <td>21.000000</td>\n",
       "      <td>58.000000</td>\n",
       "      <td>4821.000000</td>\n",
       "      <td>2.000000</td>\n",
       "      <td>1985.000000</td>\n",
       "      <td>35.000000</td>\n",
       "    </tr>\n",
       "    <tr>\n",
       "      <th>75%</th>\n",
       "      <td>13.000000</td>\n",
       "      <td>67.000000</td>\n",
       "      <td>93.000000</td>\n",
       "      <td>5257.000000</td>\n",
       "      <td>3.000000</td>\n",
       "      <td>1990.000000</td>\n",
       "      <td>42.000000</td>\n",
       "    </tr>\n",
       "    <tr>\n",
       "      <th>max</th>\n",
       "      <td>1372.000000</td>\n",
       "      <td>81.000000</td>\n",
       "      <td>383.000000</td>\n",
       "      <td>6638.000000</td>\n",
       "      <td>3.000000</td>\n",
       "      <td>2001.000000</td>\n",
       "      <td>119.000000</td>\n",
       "    </tr>\n",
       "  </tbody>\n",
       "</table>\n",
       "</div>"
      ],
      "text/plain": [
       "           duration  station_A_id  station_B_id        car_id     user_type  \\\n",
       "count  25760.000000  25760.000000  25760.000000  25760.000000  25760.000000   \n",
       "mean      11.389053     31.023602     89.558579   4107.621467      2.008385   \n",
       "std       23.500516     26.409263    105.144103   1576.315767      0.704541   \n",
       "min        1.000000      3.000000      3.000000     11.000000      1.000000   \n",
       "25%        6.000000     15.000000     21.000000   3106.000000      2.000000   \n",
       "50%        9.000000     21.000000     58.000000   4821.000000      2.000000   \n",
       "75%       13.000000     67.000000     93.000000   5257.000000      3.000000   \n",
       "max     1372.000000     81.000000    383.000000   6638.000000      3.000000   \n",
       "\n",
       "       user_birth_year           age  \n",
       "count     25760.000000  25760.000000  \n",
       "mean       1983.054969     36.945031  \n",
       "std          10.010992     10.010992  \n",
       "min        1901.000000     19.000000  \n",
       "25%        1978.000000     30.000000  \n",
       "50%        1985.000000     35.000000  \n",
       "75%        1990.000000     42.000000  \n",
       "max        2001.000000    119.000000  "
      ]
     },
     "execution_count": 116,
     "metadata": {},
     "output_type": "execute_result"
    }
   ],
   "source": [
    "# creating the column age by subtracting the user birth year from the current year and printing the stats\n",
    "uber_df['age'] = 2020-uber_df['user_birth_year']\n",
    "uber_df.describe()"
   ]
  },
  {
   "cell_type": "code",
   "execution_count": 117,
   "metadata": {},
   "outputs": [
    {
     "data": {
      "text/html": [
       "<div>\n",
       "<style scoped>\n",
       "    .dataframe tbody tr th:only-of-type {\n",
       "        vertical-align: middle;\n",
       "    }\n",
       "\n",
       "    .dataframe tbody tr th {\n",
       "        vertical-align: top;\n",
       "    }\n",
       "\n",
       "    .dataframe thead th {\n",
       "        text-align: right;\n",
       "    }\n",
       "</style>\n",
       "<table border=\"1\" class=\"dataframe\">\n",
       "  <thead>\n",
       "    <tr style=\"text-align: right;\">\n",
       "      <th></th>\n",
       "      <th>duration</th>\n",
       "      <th>station_A_id</th>\n",
       "      <th>station_A_name</th>\n",
       "      <th>station_B_id</th>\n",
       "      <th>station_B_name</th>\n",
       "      <th>car_id</th>\n",
       "      <th>user_type</th>\n",
       "      <th>user_birth_year</th>\n",
       "      <th>user_gender</th>\n",
       "      <th>age</th>\n",
       "      <th>user_cat</th>\n",
       "    </tr>\n",
       "  </thead>\n",
       "  <tbody>\n",
       "    <tr>\n",
       "      <th>0</th>\n",
       "      <td>12</td>\n",
       "      <td>81</td>\n",
       "      <td>Berry St at 4th St</td>\n",
       "      <td>323</td>\n",
       "      <td>Broadway at Kearny</td>\n",
       "      <td>5480</td>\n",
       "      <td>2</td>\n",
       "      <td>1959</td>\n",
       "      <td>Male</td>\n",
       "      <td>61</td>\n",
       "      <td>Older Adults</td>\n",
       "    </tr>\n",
       "    <tr>\n",
       "      <th>1</th>\n",
       "      <td>24</td>\n",
       "      <td>3</td>\n",
       "      <td>Powell St BART Station (Market St at 4th St)</td>\n",
       "      <td>118</td>\n",
       "      <td>Eureka Valley Recreation Center</td>\n",
       "      <td>5193</td>\n",
       "      <td>2</td>\n",
       "      <td>1965</td>\n",
       "      <td>Male</td>\n",
       "      <td>55</td>\n",
       "      <td>Middle-aged</td>\n",
       "    </tr>\n",
       "    <tr>\n",
       "      <th>2</th>\n",
       "      <td>8</td>\n",
       "      <td>67</td>\n",
       "      <td>San Francisco Caltrain Station 2  (Townsend St...</td>\n",
       "      <td>23</td>\n",
       "      <td>The Embarcadero at Steuart St</td>\n",
       "      <td>3652</td>\n",
       "      <td>3</td>\n",
       "      <td>1993</td>\n",
       "      <td>Male</td>\n",
       "      <td>27</td>\n",
       "      <td>Adult</td>\n",
       "    </tr>\n",
       "    <tr>\n",
       "      <th>3</th>\n",
       "      <td>4</td>\n",
       "      <td>16</td>\n",
       "      <td>Steuart St at Market St</td>\n",
       "      <td>28</td>\n",
       "      <td>The Embarcadero at Bryant St</td>\n",
       "      <td>1883</td>\n",
       "      <td>1</td>\n",
       "      <td>1979</td>\n",
       "      <td>Male</td>\n",
       "      <td>41</td>\n",
       "      <td>Middle-aged</td>\n",
       "    </tr>\n",
       "    <tr>\n",
       "      <th>4</th>\n",
       "      <td>11</td>\n",
       "      <td>22</td>\n",
       "      <td>Howard St at Beale St</td>\n",
       "      <td>350</td>\n",
       "      <td>8th St at Brannan St</td>\n",
       "      <td>4626</td>\n",
       "      <td>2</td>\n",
       "      <td>1994</td>\n",
       "      <td>Male</td>\n",
       "      <td>26</td>\n",
       "      <td>Adult</td>\n",
       "    </tr>\n",
       "  </tbody>\n",
       "</table>\n",
       "</div>"
      ],
      "text/plain": [
       "   duration  station_A_id                                     station_A_name  \\\n",
       "0        12            81                                 Berry St at 4th St   \n",
       "1        24             3       Powell St BART Station (Market St at 4th St)   \n",
       "2         8            67  San Francisco Caltrain Station 2  (Townsend St...   \n",
       "3         4            16                            Steuart St at Market St   \n",
       "4        11            22                              Howard St at Beale St   \n",
       "\n",
       "   station_B_id                   station_B_name  car_id  user_type  \\\n",
       "0           323               Broadway at Kearny    5480          2   \n",
       "1           118  Eureka Valley Recreation Center    5193          2   \n",
       "2            23    The Embarcadero at Steuart St    3652          3   \n",
       "3            28     The Embarcadero at Bryant St    1883          1   \n",
       "4           350             8th St at Brannan St    4626          2   \n",
       "\n",
       "   user_birth_year user_gender  age      user_cat  \n",
       "0             1959        Male   61  Older Adults  \n",
       "1             1965        Male   55   Middle-aged  \n",
       "2             1993        Male   27         Adult  \n",
       "3             1979        Male   41   Middle-aged  \n",
       "4             1994        Male   26         Adult  "
      ]
     },
     "execution_count": 117,
     "metadata": {},
     "output_type": "execute_result"
    }
   ],
   "source": [
    "def create_age_categories(df):\n",
    "    \"\"\"\n",
    "    Return Categories for dataframe based on age column\n",
    "    \n",
    "        Parameters :\n",
    "            df (pandas.DataFrame): the dataframe to filter on\n",
    "        \n",
    "        Return :\n",
    "            (str): if the condition are met\n",
    "            null: if the condition are not met\n",
    "    \"\"\"\n",
    "    if df['age'] <= 18:\n",
    "        return 'Teens'\n",
    "    elif 18<df['age'] <= 35:\n",
    "        return 'Adult'\n",
    "    elif 35 < df['age'] <= 55:\n",
    "        return 'Middle-aged'\n",
    "    elif df['age']>55:\n",
    "        return 'Older Adults'\n",
    "    else:\n",
    "        return Null\n",
    "\n",
    "# apply the function create_catergories on the uber data and printing 5 rows\n",
    "uber_df['user_cat'] = uber_df.apply(create_age_categories,axis=1)\n",
    "uber_df.head()"
   ]
  },
  {
   "cell_type": "markdown",
   "metadata": {},
   "source": [
    "## Detecting Outliers & Removing them"
   ]
  },
  {
   "cell_type": "code",
   "execution_count": 118,
   "metadata": {},
   "outputs": [
    {
     "data": {
      "text/plain": [
       "<matplotlib.axes._subplots.AxesSubplot at 0x11bf6d64f70>"
      ]
     },
     "execution_count": 118,
     "metadata": {},
     "output_type": "execute_result"
    },
    {
     "data": {
      "image/png": "[encoded data removed]",
      "text/plain": [
       "<Figure size 432x288 with 1 Axes>"
      ]
     },
     "metadata": {
      "needs_background": "light"
     },
     "output_type": "display_data"
    }
   ],
   "source": [
    "# show figue of disterbution of duration column\n",
    "sns.boxplot(x=uber_df.duration)"
   ]
  },
  {
   "cell_type": "markdown",
   "metadata": {},
   "source": [
    "We notice that there is an important number of outliers in duration "
   ]
  },
  {
   "cell_type": "code",
   "execution_count": 119,
   "metadata": {},
   "outputs": [
    {
     "data": {
      "text/plain": [
       "<matplotlib.axes._subplots.AxesSubplot at 0x11bf6e3f4f0>"
      ]
     },
     "execution_count": 119,
     "metadata": {},
     "output_type": "execute_result"
    },
    {
     "data": {
      "image/png": "[encoded data removed]",
      "text/plain": [
       "<Figure size 432x288 with 1 Axes>"
      ]
     },
     "metadata": {
      "needs_background": "light"
     },
     "output_type": "display_data"
    }
   ],
   "source": [
    "sns.boxplot(x=uber_df.user_birth_year)"
   ]
  },
  {
   "cell_type": "markdown",
   "metadata": {},
   "source": [
    "We notice that there is an important number of outliers in user_birth_year"
   ]
  },
  {
   "cell_type": "code",
   "execution_count": 120,
   "metadata": {},
   "outputs": [
    {
     "name": "stdout",
     "output_type": "stream",
     "text": [
      "duration              7.0\n",
      "station_A_id         52.0\n",
      "station_B_id         72.0\n",
      "car_id             2151.0\n",
      "user_type             1.0\n",
      "user_birth_year      12.0\n",
      "age                  12.0\n",
      "dtype: float64\n"
     ]
    }
   ],
   "source": [
    "# caluculating the IQR so we can filter and drop the rows that can be consider outliers\n",
    "\n",
    "Q1 = uber_df.quantile(0.25)\n",
    "Q3 = uber_df.quantile(0.75)\n",
    "\n",
    "IQR = Q3 - Q1\n",
    "print(IQR)\n"
   ]
  },
  {
   "cell_type": "code",
   "execution_count": 121,
   "metadata": {},
   "outputs": [
    {
     "data": {
      "text/plain": [
       "(20830, 11)"
      ]
     },
     "execution_count": 121,
     "metadata": {},
     "output_type": "execute_result"
    }
   ],
   "source": [
    "# droping the outlier based on the IQR that we calculater\n",
    "uber_df = uber_df[~((uber_df < (Q1-1.5 * IQR)) |(uber_df > (Q3 + 1.5 * IQR))).any(axis=1)]\n",
    "# print the shape\n",
    "uber_df.shape"
   ]
  },
  {
   "cell_type": "markdown",
   "metadata": {},
   "source": [
    "We notice that almost 4000 rows has been deleted "
   ]
  },
  {
   "cell_type": "code",
   "execution_count": 122,
   "metadata": {},
   "outputs": [
    {
     "data": {
      "text/plain": [
       "<matplotlib.axes._subplots.AxesSubplot at 0x11bf6dad820>"
      ]
     },
     "execution_count": 122,
     "metadata": {},
     "output_type": "execute_result"
    },
    {
     "data": {
      "image/png": "[encoded data removed]",
      "text/plain": [
       "<Figure size 432x288 with 1 Axes>"
      ]
     },
     "metadata": {
      "needs_background": "light"
     },
     "output_type": "display_data"
    }
   ],
   "source": [
    "sns.boxplot(x=uber_df.duration)"
   ]
  },
  {
   "cell_type": "markdown",
   "metadata": {},
   "source": [
    "it is seems that we deleted most of the outliers"
   ]
  },
  {
   "cell_type": "code",
   "execution_count": 123,
   "metadata": {},
   "outputs": [
    {
     "data": {
      "text/html": [
       "<div>\n",
       "<style scoped>\n",
       "    .dataframe tbody tr th:only-of-type {\n",
       "        vertical-align: middle;\n",
       "    }\n",
       "\n",
       "    .dataframe tbody tr th {\n",
       "        vertical-align: top;\n",
       "    }\n",
       "\n",
       "    .dataframe thead th {\n",
       "        text-align: right;\n",
       "    }\n",
       "</style>\n",
       "<table border=\"1\" class=\"dataframe\">\n",
       "  <thead>\n",
       "    <tr style=\"text-align: right;\">\n",
       "      <th></th>\n",
       "      <th>duration</th>\n",
       "      <th>station_A_id</th>\n",
       "      <th>station_B_id</th>\n",
       "      <th>car_id</th>\n",
       "      <th>user_type</th>\n",
       "      <th>user_birth_year</th>\n",
       "      <th>age</th>\n",
       "    </tr>\n",
       "  </thead>\n",
       "  <tbody>\n",
       "    <tr>\n",
       "      <th>count</th>\n",
       "      <td>20830.000000</td>\n",
       "      <td>20830.000000</td>\n",
       "      <td>20830.000000</td>\n",
       "      <td>20830.000000</td>\n",
       "      <td>20830.000000</td>\n",
       "      <td>20830.000000</td>\n",
       "      <td>20830.000000</td>\n",
       "    </tr>\n",
       "    <tr>\n",
       "      <th>mean</th>\n",
       "      <td>9.053625</td>\n",
       "      <td>31.727076</td>\n",
       "      <td>51.168507</td>\n",
       "      <td>4083.203841</td>\n",
       "      <td>2.007585</td>\n",
       "      <td>1983.564810</td>\n",
       "      <td>36.435190</td>\n",
       "    </tr>\n",
       "    <tr>\n",
       "      <th>std</th>\n",
       "      <td>4.515060</td>\n",
       "      <td>26.711295</td>\n",
       "      <td>35.753009</td>\n",
       "      <td>1589.878327</td>\n",
       "      <td>0.706845</td>\n",
       "      <td>8.855718</td>\n",
       "      <td>8.855718</td>\n",
       "    </tr>\n",
       "    <tr>\n",
       "      <th>min</th>\n",
       "      <td>1.000000</td>\n",
       "      <td>3.000000</td>\n",
       "      <td>3.000000</td>\n",
       "      <td>11.000000</td>\n",
       "      <td>1.000000</td>\n",
       "      <td>1960.000000</td>\n",
       "      <td>19.000000</td>\n",
       "    </tr>\n",
       "    <tr>\n",
       "      <th>25%</th>\n",
       "      <td>6.000000</td>\n",
       "      <td>15.000000</td>\n",
       "      <td>20.000000</td>\n",
       "      <td>3035.000000</td>\n",
       "      <td>2.000000</td>\n",
       "      <td>1978.000000</td>\n",
       "      <td>30.000000</td>\n",
       "    </tr>\n",
       "    <tr>\n",
       "      <th>50%</th>\n",
       "      <td>8.000000</td>\n",
       "      <td>21.000000</td>\n",
       "      <td>49.000000</td>\n",
       "      <td>4817.000000</td>\n",
       "      <td>2.000000</td>\n",
       "      <td>1985.000000</td>\n",
       "      <td>35.000000</td>\n",
       "    </tr>\n",
       "    <tr>\n",
       "      <th>75%</th>\n",
       "      <td>12.000000</td>\n",
       "      <td>67.000000</td>\n",
       "      <td>80.000000</td>\n",
       "      <td>5253.000000</td>\n",
       "      <td>3.000000</td>\n",
       "      <td>1990.000000</td>\n",
       "      <td>42.000000</td>\n",
       "    </tr>\n",
       "    <tr>\n",
       "      <th>max</th>\n",
       "      <td>23.000000</td>\n",
       "      <td>81.000000</td>\n",
       "      <td>147.000000</td>\n",
       "      <td>6638.000000</td>\n",
       "      <td>3.000000</td>\n",
       "      <td>2001.000000</td>\n",
       "      <td>60.000000</td>\n",
       "    </tr>\n",
       "  </tbody>\n",
       "</table>\n",
       "</div>"
      ],
      "text/plain": [
       "           duration  station_A_id  station_B_id        car_id     user_type  \\\n",
       "count  20830.000000  20830.000000  20830.000000  20830.000000  20830.000000   \n",
       "mean       9.053625     31.727076     51.168507   4083.203841      2.007585   \n",
       "std        4.515060     26.711295     35.753009   1589.878327      0.706845   \n",
       "min        1.000000      3.000000      3.000000     11.000000      1.000000   \n",
       "25%        6.000000     15.000000     20.000000   3035.000000      2.000000   \n",
       "50%        8.000000     21.000000     49.000000   4817.000000      2.000000   \n",
       "75%       12.000000     67.000000     80.000000   5253.000000      3.000000   \n",
       "max       23.000000     81.000000    147.000000   6638.000000      3.000000   \n",
       "\n",
       "       user_birth_year           age  \n",
       "count     20830.000000  20830.000000  \n",
       "mean       1983.564810     36.435190  \n",
       "std           8.855718      8.855718  \n",
       "min        1960.000000     19.000000  \n",
       "25%        1978.000000     30.000000  \n",
       "50%        1985.000000     35.000000  \n",
       "75%        1990.000000     42.000000  \n",
       "max        2001.000000     60.000000  "
      ]
     },
     "execution_count": 123,
     "metadata": {},
     "output_type": "execute_result"
    }
   ],
   "source": [
    "uber_df.describe()"
   ]
  },
  {
   "cell_type": "markdown",
   "metadata": {},
   "source": [
    "### Basic Visualtisations"
   ]
  },
  {
   "cell_type": "code",
   "execution_count": 124,
   "metadata": {},
   "outputs": [
    {
     "data": {
      "text/plain": [
       "Text(0.5, 0, 'User Type')"
      ]
     },
     "execution_count": 124,
     "metadata": {},
     "output_type": "execute_result"
    },
    {
     "data": {
      "image/png": "[encoded data removed]",
      "text/plain": [
       "<Figure size 720x360 with 1 Axes>"
      ]
     },
     "metadata": {
      "needs_background": "light"
     },
     "output_type": "display_data"
    }
   ],
   "source": [
    "uber_df.user_type.value_counts().plot(kind='bar', figsize=(10,5))\n",
    "plt.title(\"Number Of rides per user type\")\n",
    "plt.ylabel('Number of Rides')\n",
    "plt.xlabel('User Type')"
   ]
  },
  {
   "cell_type": "code",
   "execution_count": 125,
   "metadata": {},
   "outputs": [
    {
     "data": {
      "text/plain": [
       "Text(0.5, 0, \"User's birth years\")"
      ]
     },
     "execution_count": 125,
     "metadata": {},
     "output_type": "execute_result"
    },
    {
     "data": {
      "image/png": "[encoded data removed]",
      "text/plain": [
       "<Figure size 720x360 with 1 Axes>"
      ]
     },
     "metadata": {
      "needs_background": "light"
     },
     "output_type": "display_data"
    }
   ],
   "source": [
    "uber_df.user_birth_year.value_counts().plot(kind='bar', figsize=(10,5))\n",
    "plt.title(\"Number Of rides per user birth year\")\n",
    "plt.ylabel('Number of Rides')\n",
    "plt.xlabel(\"User's birth years\")"
   ]
  },
  {
   "cell_type": "code",
   "execution_count": 126,
   "metadata": {},
   "outputs": [
    {
     "data": {
      "text/html": [
       "<div>\n",
       "<style scoped>\n",
       "    .dataframe tbody tr th:only-of-type {\n",
       "        vertical-align: middle;\n",
       "    }\n",
       "\n",
       "    .dataframe tbody tr th {\n",
       "        vertical-align: top;\n",
       "    }\n",
       "\n",
       "    .dataframe thead th {\n",
       "        text-align: right;\n",
       "    }\n",
       "</style>\n",
       "<table border=\"1\" class=\"dataframe\">\n",
       "  <thead>\n",
       "    <tr style=\"text-align: right;\">\n",
       "      <th></th>\n",
       "      <th>duration</th>\n",
       "      <th>station_A_id</th>\n",
       "      <th>station_B_id</th>\n",
       "      <th>car_id</th>\n",
       "      <th>user_type</th>\n",
       "      <th>user_birth_year</th>\n",
       "      <th>age</th>\n",
       "    </tr>\n",
       "  </thead>\n",
       "  <tbody>\n",
       "    <tr>\n",
       "      <th>duration</th>\n",
       "      <td>1.000000</td>\n",
       "      <td>0.021758</td>\n",
       "      <td>0.330450</td>\n",
       "      <td>-0.048056</td>\n",
       "      <td>-0.012628</td>\n",
       "      <td>0.032169</td>\n",
       "      <td>-0.032169</td>\n",
       "    </tr>\n",
       "    <tr>\n",
       "      <th>station_A_id</th>\n",
       "      <td>0.021758</td>\n",
       "      <td>1.000000</td>\n",
       "      <td>-0.094229</td>\n",
       "      <td>-0.001409</td>\n",
       "      <td>-0.000920</td>\n",
       "      <td>0.025281</td>\n",
       "      <td>-0.025281</td>\n",
       "    </tr>\n",
       "    <tr>\n",
       "      <th>station_B_id</th>\n",
       "      <td>0.330450</td>\n",
       "      <td>-0.094229</td>\n",
       "      <td>1.000000</td>\n",
       "      <td>0.035363</td>\n",
       "      <td>-0.008510</td>\n",
       "      <td>0.095293</td>\n",
       "      <td>-0.095293</td>\n",
       "    </tr>\n",
       "    <tr>\n",
       "      <th>car_id</th>\n",
       "      <td>-0.048056</td>\n",
       "      <td>-0.001409</td>\n",
       "      <td>0.035363</td>\n",
       "      <td>1.000000</td>\n",
       "      <td>-0.004945</td>\n",
       "      <td>0.078109</td>\n",
       "      <td>-0.078109</td>\n",
       "    </tr>\n",
       "    <tr>\n",
       "      <th>user_type</th>\n",
       "      <td>-0.012628</td>\n",
       "      <td>-0.000920</td>\n",
       "      <td>-0.008510</td>\n",
       "      <td>-0.004945</td>\n",
       "      <td>1.000000</td>\n",
       "      <td>0.008880</td>\n",
       "      <td>-0.008880</td>\n",
       "    </tr>\n",
       "    <tr>\n",
       "      <th>user_birth_year</th>\n",
       "      <td>0.032169</td>\n",
       "      <td>0.025281</td>\n",
       "      <td>0.095293</td>\n",
       "      <td>0.078109</td>\n",
       "      <td>0.008880</td>\n",
       "      <td>1.000000</td>\n",
       "      <td>-1.000000</td>\n",
       "    </tr>\n",
       "    <tr>\n",
       "      <th>age</th>\n",
       "      <td>-0.032169</td>\n",
       "      <td>-0.025281</td>\n",
       "      <td>-0.095293</td>\n",
       "      <td>-0.078109</td>\n",
       "      <td>-0.008880</td>\n",
       "      <td>-1.000000</td>\n",
       "      <td>1.000000</td>\n",
       "    </tr>\n",
       "  </tbody>\n",
       "</table>\n",
       "</div>"
      ],
      "text/plain": [
       "                 duration  station_A_id  station_B_id    car_id  user_type  \\\n",
       "duration         1.000000      0.021758      0.330450 -0.048056  -0.012628   \n",
       "station_A_id     0.021758      1.000000     -0.094229 -0.001409  -0.000920   \n",
       "station_B_id     0.330450     -0.094229      1.000000  0.035363  -0.008510   \n",
       "car_id          -0.048056     -0.001409      0.035363  1.000000  -0.004945   \n",
       "user_type       -0.012628     -0.000920     -0.008510 -0.004945   1.000000   \n",
       "user_birth_year  0.032169      0.025281      0.095293  0.078109   0.008880   \n",
       "age             -0.032169     -0.025281     -0.095293 -0.078109  -0.008880   \n",
       "\n",
       "                 user_birth_year       age  \n",
       "duration                0.032169 -0.032169  \n",
       "station_A_id            0.025281 -0.025281  \n",
       "station_B_id            0.095293 -0.095293  \n",
       "car_id                  0.078109 -0.078109  \n",
       "user_type               0.008880 -0.008880  \n",
       "user_birth_year         1.000000 -1.000000  \n",
       "age                    -1.000000  1.000000  "
      ]
     },
     "execution_count": 126,
     "metadata": {},
     "output_type": "execute_result"
    },
    {
     "data": {
      "image/png": "[encoded data removed]",
      "text/plain": [
       "<Figure size 1440x720 with 2 Axes>"
      ]
     },
     "metadata": {
      "needs_background": "light"
     },
     "output_type": "display_data"
    }
   ],
   "source": [
    "# Heat Maps is a type of plot which is necessary when we need to find the dependent variables\n",
    "plt.figure(figsize=(20,10))\n",
    "c= uber_df.corr()\n",
    "sns.heatmap(c,cmap='BrBG',annot=True)\n",
    "c"
   ]
  },
  {
   "cell_type": "code",
   "execution_count": 127,
   "metadata": {},
   "outputs": [
    {
     "data": {
      "image/png": "[encoded data removed]",
      "text/plain": [
       "<Figure size 720x432 with 1 Axes>"
      ]
     },
     "metadata": {
      "needs_background": "light"
     },
     "output_type": "display_data"
    }
   ],
   "source": [
    "fig, ax = plt.subplots(figsize=(10,6))\n",
    "ax.scatter(uber_df['duration'], uber_df['station_B_id'])\n",
    "ax.set_xlabel('duration')\n",
    "ax.set_ylabel('station_B_id')\n",
    "plt.show()"
   ]
  },
  {
   "cell_type": "code",
   "execution_count": 128,
   "metadata": {},
   "outputs": [
    {
     "data": {
      "text/plain": [
       "<matplotlib.axes._subplots.AxesSubplot at 0x11bf6666970>"
      ]
     },
     "execution_count": 128,
     "metadata": {},
     "output_type": "execute_result"
    },
    {
     "data": {
      "image/png": "[encoded data removed]",
      "text/plain": [
       "<Figure size 432x288 with 1 Axes>"
      ]
     },
     "metadata": {
      "needs_background": "light"
     },
     "output_type": "display_data"
    }
   ],
   "source": [
    "sns.distplot(uber_df['duration'], kde=False)"
   ]
  },
  {
   "cell_type": "code",
   "execution_count": 129,
   "metadata": {},
   "outputs": [
    {
     "data": {
      "text/html": [
       "<div>\n",
       "<style scoped>\n",
       "    .dataframe tbody tr th:only-of-type {\n",
       "        vertical-align: middle;\n",
       "    }\n",
       "\n",
       "    .dataframe tbody tr th {\n",
       "        vertical-align: top;\n",
       "    }\n",
       "\n",
       "    .dataframe thead th {\n",
       "        text-align: right;\n",
       "    }\n",
       "</style>\n",
       "<table border=\"1\" class=\"dataframe\">\n",
       "  <thead>\n",
       "    <tr style=\"text-align: right;\">\n",
       "      <th></th>\n",
       "      <th>User_Cat</th>\n",
       "    </tr>\n",
       "  </thead>\n",
       "  <tbody>\n",
       "    <tr>\n",
       "      <th>Adult</th>\n",
       "      <td>11264</td>\n",
       "    </tr>\n",
       "    <tr>\n",
       "      <th>Middle-aged</th>\n",
       "      <td>8815</td>\n",
       "    </tr>\n",
       "    <tr>\n",
       "      <th>Older Adults</th>\n",
       "      <td>751</td>\n",
       "    </tr>\n",
       "  </tbody>\n",
       "</table>\n",
       "</div>"
      ],
      "text/plain": [
       "              User_Cat\n",
       "Adult            11264\n",
       "Middle-aged       8815\n",
       "Older Adults       751"
      ]
     },
     "execution_count": 129,
     "metadata": {},
     "output_type": "execute_result"
    }
   ],
   "source": [
    "cat_counts = uber_df.user_cat.value_counts()\n",
    "df = pd.DataFrame({'User_Cat':cat_counts})\n",
    "df.head()"
   ]
  },
  {
   "cell_type": "code",
   "execution_count": 130,
   "metadata": {},
   "outputs": [
    {
     "data": {
      "text/plain": [
       "Text(0.5, 1.0, 'Pie charts based of categories')"
      ]
     },
     "execution_count": 130,
     "metadata": {},
     "output_type": "execute_result"
    },
    {
     "data": {
      "image/png": "[encoded data removed]",
      "text/plain": [
       "<Figure size 720x720 with 1 Axes>"
      ]
     },
     "metadata": {},
     "output_type": "display_data"
    }
   ],
   "source": [
    "df.plot.pie(y='User_Cat', figsize=(10,10), autopct='%1.1f%%')\n",
    "plt.title('Pie charts based of categories')"
   ]
  },
  {
   "cell_type": "markdown",
   "metadata": {},
   "source": [
    "### Thank you for the attentions and you can find this code on :\n",
    "https://github.com/khalidchbab/Descriptive_analysis_Uber_MBD_S3"
   ]
  }
 ],
 "metadata": {
  "kernelspec": {
   "display_name": "Python 3",
   "language": "python",
   "name": "python3"
  },
  "language_info": {
   "codemirror_mode": {
    "name": "ipython",
    "version": 3
   },
   "file_extension": ".py",
   "mimetype": "text/x-python",
   "name": "python",
   "nbconvert_exporter": "python",
   "pygments_lexer": "ipython3",
   "version": "3.8.3"
  }
 },
 "nbformat": 4,
 "nbformat_minor": 4
}
